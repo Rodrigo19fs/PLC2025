{
 "cells": [
  {
   "cell_type": "code",
   "execution_count": 35,
   "id": "e0ea7977",
   "metadata": {},
   "outputs": [],
   "source": [
    "import re"
   ]
  },
  {
   "cell_type": "markdown",
   "id": "b34cda7a",
   "metadata": {},
   "source": [
    "### Cabeçalhos: linhas iniciadas por \"# texto\", ou \"## texto\" ou \"### texto\"\n",
    "\n",
    "In: # Exemplo\n",
    "\n",
    "Out: `<h1>Exemplo</h1>`\n"
   ]
  },
  {
   "cell_type": "code",
   "execution_count": 36,
   "id": "1dcbc852",
   "metadata": {},
   "outputs": [
    {
     "name": "stdout",
     "output_type": "stream",
     "text": [
      "<h1>Exemplo<h1>\n",
      "<h2>Exemplo2<h2>\n",
      "<h3>Exemplo3<h3>\n"
     ]
    }
   ],
   "source": [
    "linha1=\"# Exemplo\"\n",
    "linha2=\"## Exemplo2\"\n",
    "linha3=\"### Exemplo3\"\n",
    "\n",
    "def res(linha):\n",
    "    if re.match(r\"# .*\",linha):\n",
    "        ex1=re.sub(r\"# (.*)\",r\"<h1>\\1<h1>\",linha)\n",
    "        return ex1\n",
    "    if re.match(r\"## .*\",linha):\n",
    "        ex1=re.sub(r\"## (.*)\",r\"<h2>\\1<h2>\",linha)\n",
    "        return ex1\n",
    "    if re.match(r\"### .*\",linha):\n",
    "        ex1=re.sub(r\"### (.*)\",r\"<h3>\\1<h3>\",linha)\n",
    "        return ex1\n",
    "\n",
    "print(res(linha1))\n",
    "print(res(linha2))\n",
    "print(res(linha3))"
   ]
  },
  {
   "cell_type": "markdown",
   "id": "ad829673",
   "metadata": {},
   "source": [
    "### Bold: pedaços de texto entre \"**\":\n",
    "\n",
    "In: Este é um **exemplo** ...\n",
    "\n",
    "Out: Este é um `<b>exemplo</b> ...`"
   ]
  },
  {
   "cell_type": "code",
   "execution_count": 37,
   "id": "9084bd2c",
   "metadata": {},
   "outputs": [
    {
     "name": "stdout",
     "output_type": "stream",
     "text": [
      "<b>Exemplo<b>\n"
     ]
    }
   ],
   "source": [
    "linha1=\"**Exemplo**\"\n",
    "\n",
    "\n",
    "def res(linha):\n",
    "    if re.match(r\"\\*\\*.*\\*\\*\",linha):\n",
    "        ex2=re.sub(r\"\\*\\*(.*)\\*\\*\",r\"<b>\\1<b>\",linha)\n",
    "        return ex2\n",
    "    \n",
    "print(res(linha1))"
   ]
  },
  {
   "cell_type": "markdown",
   "id": "58c0d720",
   "metadata": {},
   "source": [
    "### Itálico: pedaços de texto entre \"*\":\n",
    "\n",
    "In: `Este é um *exemplo* ...`\n",
    "\n",
    "Out: `Este é um <i>exemplo</i> ...`"
   ]
  },
  {
   "cell_type": "code",
   "execution_count": 38,
   "id": "1a37ce5a",
   "metadata": {},
   "outputs": [
    {
     "name": "stdout",
     "output_type": "stream",
     "text": [
      "<i>Exemplo<i>\n"
     ]
    }
   ],
   "source": [
    "linha1=\"*Exemplo*\"\n",
    "\n",
    "\n",
    "def res(linha):\n",
    "    if re.match(r\"\\*.*\\*\",linha):\n",
    "        ex2=re.sub(r\"\\*(.*)\\*\",r\"<i>\\1<i>\",linha)\n",
    "        return ex2\n",
    "    \n",
    "print(res(linha1))"
   ]
  },
  {
   "cell_type": "markdown",
   "id": "67c1bdc5",
   "metadata": {},
   "source": [
    "### Lista numerada:\n",
    "\n",
    "In:\n",
    "```\n",
    "1. Primeiro item\n",
    "2. Segundo item\n",
    "3. Terceiro item\n",
    "```\n",
    "\n",
    "Out:\n",
    "```\n",
    "<ol>\n",
    "<li>Primeiro item</li>\n",
    "<li>Segundo item</li>\n",
    "<li>Terceiro item</li>\n",
    "</ol>\n",
    "```"
   ]
  },
  {
   "cell_type": "code",
   "execution_count": 39,
   "id": "77ed7fc4",
   "metadata": {},
   "outputs": [
    {
     "name": "stdout",
     "output_type": "stream",
     "text": [
      "<ol>\n",
      "<li>Primeiro item</li>\n",
      "<li>Segundo item</li>\n",
      "<li>Terceiro item</li>\n",
      "</ol>\n"
     ]
    }
   ],
   "source": [
    "texto = \"\"\"1. Primeiro item\n",
    "2. Segundo item\n",
    "3. Terceiro item\"\"\"\n",
    "\n",
    "def res(texto):\n",
    "    linhas =texto.splitlines()\n",
    "    final=[]\n",
    "    for linha in linhas:\n",
    "        m=re.match(r\"\\d+\\.\\s+(.*)\",linha)\n",
    "        if m:\n",
    "            final.append(f\"<li>{m.group(1)}</li>\")\n",
    "    return \"<ol>\\n\"+\"\\n\".join(final)+\"\\n</ol>\"\n",
    "\n",
    "print(res(texto))\n",
    "    "
   ]
  },
  {
   "cell_type": "markdown",
   "id": "335ad780",
   "metadata": {},
   "source": [
    "### Link: [texto](endereço URL)\n",
    "\n",
    "In: `Como pode ser consultado em [página da UC](http://www.uc.pt)`\n",
    "\n",
    "Out: `Como pode ser consultado em <a href=\"http://www.uc.pt\">página da UC</a>`\n"
   ]
  },
  {
   "cell_type": "code",
   "execution_count": 40,
   "id": "7be50edd",
   "metadata": {},
   "outputs": [
    {
     "name": "stdout",
     "output_type": "stream",
     "text": [
      "Como pode ser consultado em <a href=\"http://www.uc.pt\">página da UC</a>\n"
     ]
    }
   ],
   "source": [
    "texto=\"Como pode ser consultado em [página da UC](http://www.uc.pt)\"\n",
    "\n",
    "def res(texto):\n",
    "    if re.match(r\"(.*)\\[(.*)\\]\\((.*)\\)\",texto):\n",
    "        ex2=re.sub(r\"(.*)\\[(.*)\\]\\((.*)\\)\",r'\\1<a href=\"\\3\">\\2</a>',texto)\n",
    "        return ex2\n",
    "    \n",
    "print(res(texto))"
   ]
  },
  {
   "cell_type": "markdown",
   "id": "16ed0eb8",
   "metadata": {},
   "source": [
    "### Imagem: ![texto alternativo](path para a imagem)\n",
    "\n",
    "In: Como se vê na imagem seguinte: `![imagem dum coelho](http://www.coellho.com) ...`\n",
    "\n",
    "Out: `Como se vê na imagem seguinte: <img src=\"http://www.coellho.com\" alt=\"imagem dum coelho\"/> ...`"
   ]
  },
  {
   "cell_type": "code",
   "execution_count": 41,
   "id": "933e3007",
   "metadata": {},
   "outputs": [
    {
     "name": "stdout",
     "output_type": "stream",
     "text": [
      "Como se vê na imagem seguinte: <img src=\"http://www.coelho.com\"alt=imagem dum coelho/> ...\n"
     ]
    }
   ],
   "source": [
    "texto=\"Como se vê na imagem seguinte: ![imagem dum coelho](http://www.coelho.com) ...\"\n",
    "\n",
    "def res(texto):\n",
    "    if re.match(r\"(.*)\\!\\[(.*)\\]\\((.*)\\)\",texto):\n",
    "        ex2=re.sub(r\"(.*)\\!\\[(.*)\\]\\((.*)\\)\",r'\\1<img src=\"\\3\"alt=\\2/>',texto)\n",
    "        return ex2\n",
    "    \n",
    "print(res(texto))"
   ]
  }
 ],
 "metadata": {
  "kernelspec": {
   "display_name": "Python 3",
   "language": "python",
   "name": "python3"
  },
  "language_info": {
   "codemirror_mode": {
    "name": "ipython",
    "version": 3
   },
   "file_extension": ".py",
   "mimetype": "text/x-python",
   "name": "python",
   "nbconvert_exporter": "python",
   "pygments_lexer": "ipython3",
   "version": "3.11.9"
  }
 },
 "nbformat": 4,
 "nbformat_minor": 5
}
