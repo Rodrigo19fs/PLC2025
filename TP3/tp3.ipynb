{
 "cells": [
  {
   "cell_type": "markdown",
   "id": "670370e6",
   "metadata": {},
   "source": [
    "# Analisador Léxico\n",
    "Construir um analisador léxico para uma linguagem de query com a qual se podem escrever frases do género:"
   ]
  },
  {
   "cell_type": "markdown",
   "id": "9c737e62",
   "metadata": {},
   "source": [
    "```sparql\n",
    "# DBPedia: obras de Chuck Berry\n",
    "\n",
    "select ?nome ?desc where { \n",
    "    ?s a dbo:MusicalArtist. \n",
    "    ?s foaf:name \"Chuck Berry\"@en . \n",
    "    ?w dbo:artist ?s. \n",
    "    ?w foaf:name ?nome. \n",
    "    ?w dbo:abstract ?desc \n",
    "} LIMIT 1000"
   ]
  },
  {
   "cell_type": "code",
   "execution_count": 25,
   "id": "2086b3a5",
   "metadata": {},
   "outputs": [
    {
     "name": "stdout",
     "output_type": "stream",
     "text": [
      "[('SELECT', 'SELECT', 1, (0, 6)), ('ERROR', '?', 1, (7, 8)), ('VAR', 'ola', 1, (8, 11)), ('ERROR', '?', 1, (12, 13)), ('VAR', 'jorge', 1, (13, 18)), ('ERROR', '?', 1, (19, 20)), ('VAR', 'tudo', 1, (20, 24)), ('WHERE', 'WHERE', 1, (25, 30)), ('NEWLINE', '\\n', 2, (31, 32)), ('PUNCT', '{', 2, (32, 33)), ('NEWLINE', '\\n', 3, (33, 34)), ('ERROR', '?', 3, (36, 37)), ('VAR', 'ola', 3, (37, 40)), ('VAR', 'a', 3, (41, 42)), ('IDENT', ':Pessoa', 3, (43, 50)), ('PUNCT', ';', 3, (51, 52)), ('NEWLINE', '\\n', 4, (52, 53)), ('IDENT', ':temIdade', 4, (58, 67)), ('ERROR', '?', 4, (68, 69)), ('INT', '19', 4, (69, 71)), ('PUNCT', ';', 4, (72, 73)), ('NEWLINE', '\\n', 5, (73, 74)), ('IDENT', ':eIrmaoDe', 5, (79, 88)), ('ERROR', '?', 5, (89, 90)), ('VAR', 'jorge', 5, (90, 95)), ('PUNCT', '.', 5, (96, 97)), ('NEWLINE', '\\n', 6, (97, 98)), ('PUNCT', '}', 6, (98, 99)), ('NEWLINE', '\\n', 7, (99, 100))]\n"
     ]
    }
   ],
   "source": [
    "import re\n",
    "\n",
    "def analisador_lexico_personalizado(texte):\n",
    "    # 1. Definição das Regras Léxicas\n",
    "    tokens = [\n",
    "        # Tokens de Controlo\n",
    "        ('COMMENT', r'#.*'),\n",
    "        ('SKIP', r'[ \\t]+'),\n",
    "        ('NEWLINE', r'\\n'),\n",
    "        \n",
    "        # Palavras-Chave (Aceitam maiúsculas e minúsculas)\n",
    "        ('SELECT', r'SELECT\\b|select\\b'),\n",
    "        ('WHERE', r'WHERE\\b|where\\b'),\n",
    "        ('LIMIT', r'LIMIT\\b|limit\\b'),\n",
    "        ('PREFIX',r'PREFIX\\b'),\n",
    "        ('OPTIONAL',r'OPTIONAL\\b'),\n",
    "        ('FILTER',r'FILTER\\b'),\n",
    "        \n",
    "        # Literais\n",
    "        # Corrigida para strings (aceita a tag @en opcional)\n",
    "        ('STRING', r'\"(\\\\[\"\\\\]|[^\"\\\\])*\"(@[a-z]{2})?'),\n",
    "        ('INT', r'\\d+'),\n",
    "        \n",
    "        # Estruturas de Identificação (Crucial para o seu gabarito)\n",
    "        # VAR: Não inclui o '?', fazendo-o ser tokenizado como 'ERROR'\n",
    "        ('VAR', r'[a-zA-Z_][\\w]*'),\n",
    "        # IDENT: Nomes Prefixados, Locais e Simples\n",
    "        ('IDENT', r'([a-zA-Z_][\\w]*:[a-zA-Z_][\\w]*)|:[a-zA-Z_][\\w]*|[a-zA-Z_][\\w]*'),\n",
    "        \n",
    "        # Símbolos\n",
    "        ('OP',r'[=!<>]+'),\n",
    "        # PUNCT: Engloba chavetas e símbolos\n",
    "        ('PUNCT', r'[{}.;,]'),\n",
    "        \n",
    "        # Fallback\n",
    "        ('ERROR', r'.')\n",
    "    ]\n",
    "    \n",
    "    lista_tokens=[]\n",
    "    linha=1\n",
    "    \n",
    "    # Construção da Regex Geral\n",
    "    regex='|'.join(f'(?P<{name}>{pattern})' for name, pattern in tokens)\n",
    "    val=re.finditer(regex, texte)\n",
    "\n",
    "    for m in val:\n",
    "        grupos_capturados=m.groupdict()\n",
    "        tipot=None\n",
    "        valort=m.group()\n",
    "        \n",
    "        for key in grupos_capturados:\n",
    "            if grupos_capturados[key]:\n",
    "                tipot=key\n",
    "                break\n",
    "        \n",
    "        # Lógica de Controlo\n",
    "        if tipot=='NEWLINE':\n",
    "            linha+=1\n",
    "            lista_tokens.append((tipot, valort, linha, m.span()))\n",
    "            \n",
    "        elif tipot != 'SKIP' and tipot != 'COMMENT':\n",
    "            lista_tokens.append((tipot, valort, linha, m.span()))\n",
    "            \n",
    "    return lista_tokens\n",
    "\n",
    "# 2. Teste e Impressão\n",
    "# String de teste\n",
    "texte=\"\"\"SELECT ?ola ?jorge ?tudo WHERE \n",
    "{\n",
    "  ?ola a :Pessoa ;\n",
    "     :temIdade ?19 ;\n",
    "     :eIrmaoDe ?jorge .\n",
    "}\n",
    "\"\"\"\n",
    "\n",
    "resultado = analisador_lexico_personalizado(texte)\n",
    "\n",
    "# Imprime a lista de tokens toda seguida, como um único output de lista.\n",
    "print(resultado)"
   ]
  }
 ],
 "metadata": {
  "kernelspec": {
   "display_name": "Python 3",
   "language": "python",
   "name": "python3"
  },
  "language_info": {
   "codemirror_mode": {
    "name": "ipython",
    "version": 3
   },
   "file_extension": ".py",
   "mimetype": "text/x-python",
   "name": "python",
   "nbconvert_exporter": "python",
   "pygments_lexer": "ipython3",
   "version": "3.11.9"
  }
 },
 "nbformat": 4,
 "nbformat_minor": 5
}
